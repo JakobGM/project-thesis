version https://git-lfs.github.com/spec/v1
oid sha256:e7783425203b83ffe3c9388a2b522dcde1fec3fbfc0628a23a8e9cffb0fd88fe
size 30214
