version https://git-lfs.github.com/spec/v1
oid sha256:48759d4e79bb9ba7e7fb91397a7aba0a202b7ca0a520c52747ca895278327084
size 17517120
