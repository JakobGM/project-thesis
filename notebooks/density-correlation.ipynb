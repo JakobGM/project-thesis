version https://git-lfs.github.com/spec/v1
oid sha256:48817b6747a74383cbfdc070f6b72280c3dfb7531ed28e7ca1decd7c4e35675b
size 21960
