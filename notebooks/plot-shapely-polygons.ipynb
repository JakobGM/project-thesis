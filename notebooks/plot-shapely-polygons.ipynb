version https://git-lfs.github.com/spec/v1
oid sha256:f42eb57f1826f56bad33f5faf63bb40fab3c36e6ff2e4cb1287c9dc25a89b20b
size 468415
