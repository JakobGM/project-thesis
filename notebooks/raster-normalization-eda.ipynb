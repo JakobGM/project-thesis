version https://git-lfs.github.com/spec/v1
oid sha256:ea7c53e0290d15d014b94ce6b82fd2e98ecbd938d7c781e9424e43509957b7b0
size 50139
