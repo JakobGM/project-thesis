version https://git-lfs.github.com/spec/v1
oid sha256:cbb4ed93a66b65825dbcc1191737da86bd86b3b5b767a248746c82e439a5c17a
size 3818703
