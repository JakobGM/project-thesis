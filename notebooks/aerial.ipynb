version https://git-lfs.github.com/spec/v1
oid sha256:feb4ff530d6e11d9b90697c19217348214a13317d75c813bc0201ce124436ee9
size 780926
